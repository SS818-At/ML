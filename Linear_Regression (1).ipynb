{
  "nbformat": 4,
  "nbformat_minor": 0,
  "metadata": {
    "colab": {
      "name": "Linear_Regression.ipynb",
      "provenance": [],
      "collapsed_sections": []
    },
    "kernelspec": {
      "display_name": "Python 3",
      "language": "python",
      "name": "python3"
    },
    "language_info": {
      "codemirror_mode": {
        "name": "ipython",
        "version": 3
      },
      "file_extension": ".py",
      "mimetype": "text/x-python",
      "name": "python",
      "nbconvert_exporter": "python",
      "pygments_lexer": "ipython3",
      "version": "3.8.8"
    },
    "nav_menu": {},
    "toc": {
      "navigate_menu": true,
      "number_sections": true,
      "sideBar": true,
      "threshold": 6,
      "toc_cell": false,
      "toc_section_display": "block",
      "toc_window_display": true
    },
    "toc_position": {
      "height": "616px",
      "left": "0px",
      "right": "20px",
      "top": "106px",
      "width": "213px"
    }
  },
  "cells": [
    {
      "cell_type": "markdown",
      "metadata": {
        "id": "_JNG9oysUnns"
      },
      "source": [
        "<table align=\"left\">\n",
        "  <td>\n",
        "    <a target=\"_blank\" href=\"https://colab.research.google.com/github/AbdelMahm/FSR/blob/master/IDDLO-29-20/Notebooks/Linear_Regression.ipynb\"><img src=\"https://colab.research.google.com/img/colab_favicon_256px.png\" />Run in Google Colab</a>\n",
        "  </td>\n",
        "</table>"
      ]
    },
    {
      "cell_type": "markdown",
      "metadata": {
        "id": "IHumuXn2Unnx"
      },
      "source": [
        "# Linear Regression"
      ]
    },
    {
      "cell_type": "markdown",
      "metadata": {
        "id": "j54-zOX2Unnx"
      },
      "source": [
        "## imports"
      ]
    },
    {
      "cell_type": "code",
      "metadata": {
        "id": "z11m_iWKUnny"
      },
      "source": [
        "import sys\n",
        "import sklearn\n",
        "import os\n",
        "%matplotlib inline\n",
        "import matplotlib as mpl\n",
        "import matplotlib.pyplot as plt\n",
        "import numpy as np\n",
        "import pandas as pd\n",
        "import sklearn.linear_model\n",
        "import urllib.request\n",
        "from sklearn import preprocessing\n",
        "from sklearn import pipeline"
      ],
      "execution_count": null,
      "outputs": []
    },
    {
      "cell_type": "markdown",
      "metadata": {
        "id": "6N9d723oUnnz"
      },
      "source": [
        "## Download data"
      ]
    },
    {
      "cell_type": "code",
      "metadata": {
        "id": "N08gpp9cUnnz",
        "outputId": "dee8fa6a-ca6a-47f3-d6b8-8615ce63f9a5"
      },
      "source": [
        "import urllib.request\n",
        "data_path = os.path.join(\"datasets\", \"\")\n",
        "download_path = \"https://raw.githubusercontent.com/AbdelMahm/FSR/master/IDDLO-29-20/Notebooks/datasets/\"\n",
        "os.makedirs(data_path, exist_ok=True)\n",
        "for filename in (\"oecd_bli_2015.csv\", \"gdp_per_capita.csv\"):\n",
        "    print(\"Downloading\", filename)\n",
        "    url = download_path + filename\n",
        "    urllib.request.urlretrieve(url, data_path + filename)"
      ],
      "execution_count": null,
      "outputs": [
        {
          "name": "stdout",
          "output_type": "stream",
          "text": [
            "Downloading oecd_bli_2015.csv\n",
            "Downloading gdp_per_capita.csv\n"
          ]
        }
      ]
    },
    {
      "cell_type": "code",
      "metadata": {
        "id": "ZzgdhjTqUnn0"
      },
      "source": [
        "oecd_bli = pd.read_csv(data_path + \"oecd_bli_2015.csv\", thousands=',')\n",
        "gdp_per_capita = pd.read_csv(data_path + \"gdp_per_capita.csv\",thousands=',',delimiter='\\t',\n",
        "                             encoding='latin1', na_values=\"n/a\")"
      ],
      "execution_count": null,
      "outputs": []
    },
    {
      "cell_type": "code",
      "metadata": {
        "id": "RYfBVQwPUnn1",
        "scrolled": true,
        "outputId": "45d387f5-6103-4128-f900-886064cffcdd"
      },
      "source": [
        "#take a look to the first file\n",
        "oecd_bli"
      ],
      "execution_count": null,
      "outputs": [
        {
          "data": {
            "text/html": [
              "<div>\n",
              "<style scoped>\n",
              "    .dataframe tbody tr th:only-of-type {\n",
              "        vertical-align: middle;\n",
              "    }\n",
              "\n",
              "    .dataframe tbody tr th {\n",
              "        vertical-align: top;\n",
              "    }\n",
              "\n",
              "    .dataframe thead th {\n",
              "        text-align: right;\n",
              "    }\n",
              "</style>\n",
              "<table border=\"1\" class=\"dataframe\">\n",
              "  <thead>\n",
              "    <tr style=\"text-align: right;\">\n",
              "      <th></th>\n",
              "      <th>LOCATION</th>\n",
              "      <th>Country</th>\n",
              "      <th>INDICATOR</th>\n",
              "      <th>Indicator</th>\n",
              "      <th>MEASURE</th>\n",
              "      <th>Measure</th>\n",
              "      <th>INEQUALITY</th>\n",
              "      <th>Inequality</th>\n",
              "      <th>Unit Code</th>\n",
              "      <th>Unit</th>\n",
              "      <th>PowerCode Code</th>\n",
              "      <th>PowerCode</th>\n",
              "      <th>Reference Period Code</th>\n",
              "      <th>Reference Period</th>\n",
              "      <th>Value</th>\n",
              "      <th>Flag Codes</th>\n",
              "      <th>Flags</th>\n",
              "    </tr>\n",
              "  </thead>\n",
              "  <tbody>\n",
              "    <tr>\n",
              "      <th>0</th>\n",
              "      <td>AUS</td>\n",
              "      <td>Australia</td>\n",
              "      <td>HO_BASE</td>\n",
              "      <td>Dwellings without basic facilities</td>\n",
              "      <td>L</td>\n",
              "      <td>Value</td>\n",
              "      <td>TOT</td>\n",
              "      <td>Total</td>\n",
              "      <td>PC</td>\n",
              "      <td>Percentage</td>\n",
              "      <td>0</td>\n",
              "      <td>units</td>\n",
              "      <td>NaN</td>\n",
              "      <td>NaN</td>\n",
              "      <td>1.10</td>\n",
              "      <td>E</td>\n",
              "      <td>Estimated value</td>\n",
              "    </tr>\n",
              "    <tr>\n",
              "      <th>1</th>\n",
              "      <td>AUT</td>\n",
              "      <td>Austria</td>\n",
              "      <td>HO_BASE</td>\n",
              "      <td>Dwellings without basic facilities</td>\n",
              "      <td>L</td>\n",
              "      <td>Value</td>\n",
              "      <td>TOT</td>\n",
              "      <td>Total</td>\n",
              "      <td>PC</td>\n",
              "      <td>Percentage</td>\n",
              "      <td>0</td>\n",
              "      <td>units</td>\n",
              "      <td>NaN</td>\n",
              "      <td>NaN</td>\n",
              "      <td>1.00</td>\n",
              "      <td>NaN</td>\n",
              "      <td>NaN</td>\n",
              "    </tr>\n",
              "    <tr>\n",
              "      <th>2</th>\n",
              "      <td>BEL</td>\n",
              "      <td>Belgium</td>\n",
              "      <td>HO_BASE</td>\n",
              "      <td>Dwellings without basic facilities</td>\n",
              "      <td>L</td>\n",
              "      <td>Value</td>\n",
              "      <td>TOT</td>\n",
              "      <td>Total</td>\n",
              "      <td>PC</td>\n",
              "      <td>Percentage</td>\n",
              "      <td>0</td>\n",
              "      <td>units</td>\n",
              "      <td>NaN</td>\n",
              "      <td>NaN</td>\n",
              "      <td>2.00</td>\n",
              "      <td>NaN</td>\n",
              "      <td>NaN</td>\n",
              "    </tr>\n",
              "    <tr>\n",
              "      <th>3</th>\n",
              "      <td>CAN</td>\n",
              "      <td>Canada</td>\n",
              "      <td>HO_BASE</td>\n",
              "      <td>Dwellings without basic facilities</td>\n",
              "      <td>L</td>\n",
              "      <td>Value</td>\n",
              "      <td>TOT</td>\n",
              "      <td>Total</td>\n",
              "      <td>PC</td>\n",
              "      <td>Percentage</td>\n",
              "      <td>0</td>\n",
              "      <td>units</td>\n",
              "      <td>NaN</td>\n",
              "      <td>NaN</td>\n",
              "      <td>0.20</td>\n",
              "      <td>NaN</td>\n",
              "      <td>NaN</td>\n",
              "    </tr>\n",
              "    <tr>\n",
              "      <th>4</th>\n",
              "      <td>CZE</td>\n",
              "      <td>Czech Republic</td>\n",
              "      <td>HO_BASE</td>\n",
              "      <td>Dwellings without basic facilities</td>\n",
              "      <td>L</td>\n",
              "      <td>Value</td>\n",
              "      <td>TOT</td>\n",
              "      <td>Total</td>\n",
              "      <td>PC</td>\n",
              "      <td>Percentage</td>\n",
              "      <td>0</td>\n",
              "      <td>units</td>\n",
              "      <td>NaN</td>\n",
              "      <td>NaN</td>\n",
              "      <td>0.90</td>\n",
              "      <td>NaN</td>\n",
              "      <td>NaN</td>\n",
              "    </tr>\n",
              "    <tr>\n",
              "      <th>...</th>\n",
              "      <td>...</td>\n",
              "      <td>...</td>\n",
              "      <td>...</td>\n",
              "      <td>...</td>\n",
              "      <td>...</td>\n",
              "      <td>...</td>\n",
              "      <td>...</td>\n",
              "      <td>...</td>\n",
              "      <td>...</td>\n",
              "      <td>...</td>\n",
              "      <td>...</td>\n",
              "      <td>...</td>\n",
              "      <td>...</td>\n",
              "      <td>...</td>\n",
              "      <td>...</td>\n",
              "      <td>...</td>\n",
              "      <td>...</td>\n",
              "    </tr>\n",
              "    <tr>\n",
              "      <th>3287</th>\n",
              "      <td>EST</td>\n",
              "      <td>Estonia</td>\n",
              "      <td>WL_TNOW</td>\n",
              "      <td>Time devoted to leisure and personal care</td>\n",
              "      <td>L</td>\n",
              "      <td>Value</td>\n",
              "      <td>WMN</td>\n",
              "      <td>Women</td>\n",
              "      <td>HOUR</td>\n",
              "      <td>Hours</td>\n",
              "      <td>0</td>\n",
              "      <td>units</td>\n",
              "      <td>NaN</td>\n",
              "      <td>NaN</td>\n",
              "      <td>14.43</td>\n",
              "      <td>NaN</td>\n",
              "      <td>NaN</td>\n",
              "    </tr>\n",
              "    <tr>\n",
              "      <th>3288</th>\n",
              "      <td>ISR</td>\n",
              "      <td>Israel</td>\n",
              "      <td>WL_TNOW</td>\n",
              "      <td>Time devoted to leisure and personal care</td>\n",
              "      <td>L</td>\n",
              "      <td>Value</td>\n",
              "      <td>WMN</td>\n",
              "      <td>Women</td>\n",
              "      <td>HOUR</td>\n",
              "      <td>Hours</td>\n",
              "      <td>0</td>\n",
              "      <td>units</td>\n",
              "      <td>NaN</td>\n",
              "      <td>NaN</td>\n",
              "      <td>14.24</td>\n",
              "      <td>E</td>\n",
              "      <td>Estimated value</td>\n",
              "    </tr>\n",
              "    <tr>\n",
              "      <th>3289</th>\n",
              "      <td>RUS</td>\n",
              "      <td>Russia</td>\n",
              "      <td>WL_TNOW</td>\n",
              "      <td>Time devoted to leisure and personal care</td>\n",
              "      <td>L</td>\n",
              "      <td>Value</td>\n",
              "      <td>WMN</td>\n",
              "      <td>Women</td>\n",
              "      <td>HOUR</td>\n",
              "      <td>Hours</td>\n",
              "      <td>0</td>\n",
              "      <td>units</td>\n",
              "      <td>NaN</td>\n",
              "      <td>NaN</td>\n",
              "      <td>14.75</td>\n",
              "      <td>E</td>\n",
              "      <td>Estimated value</td>\n",
              "    </tr>\n",
              "    <tr>\n",
              "      <th>3290</th>\n",
              "      <td>SVN</td>\n",
              "      <td>Slovenia</td>\n",
              "      <td>WL_TNOW</td>\n",
              "      <td>Time devoted to leisure and personal care</td>\n",
              "      <td>L</td>\n",
              "      <td>Value</td>\n",
              "      <td>WMN</td>\n",
              "      <td>Women</td>\n",
              "      <td>HOUR</td>\n",
              "      <td>Hours</td>\n",
              "      <td>0</td>\n",
              "      <td>units</td>\n",
              "      <td>NaN</td>\n",
              "      <td>NaN</td>\n",
              "      <td>14.12</td>\n",
              "      <td>NaN</td>\n",
              "      <td>NaN</td>\n",
              "    </tr>\n",
              "    <tr>\n",
              "      <th>3291</th>\n",
              "      <td>OECD</td>\n",
              "      <td>OECD - Total</td>\n",
              "      <td>WL_TNOW</td>\n",
              "      <td>Time devoted to leisure and personal care</td>\n",
              "      <td>L</td>\n",
              "      <td>Value</td>\n",
              "      <td>WMN</td>\n",
              "      <td>Women</td>\n",
              "      <td>HOUR</td>\n",
              "      <td>Hours</td>\n",
              "      <td>0</td>\n",
              "      <td>units</td>\n",
              "      <td>NaN</td>\n",
              "      <td>NaN</td>\n",
              "      <td>14.74</td>\n",
              "      <td>NaN</td>\n",
              "      <td>NaN</td>\n",
              "    </tr>\n",
              "  </tbody>\n",
              "</table>\n",
              "<p>3292 rows × 17 columns</p>\n",
              "</div>"
            ],
            "text/plain": [
              "     LOCATION         Country INDICATOR  \\\n",
              "0         AUS       Australia   HO_BASE   \n",
              "1         AUT         Austria   HO_BASE   \n",
              "2         BEL         Belgium   HO_BASE   \n",
              "3         CAN          Canada   HO_BASE   \n",
              "4         CZE  Czech Republic   HO_BASE   \n",
              "...       ...             ...       ...   \n",
              "3287      EST         Estonia   WL_TNOW   \n",
              "3288      ISR          Israel   WL_TNOW   \n",
              "3289      RUS          Russia   WL_TNOW   \n",
              "3290      SVN        Slovenia   WL_TNOW   \n",
              "3291     OECD    OECD - Total   WL_TNOW   \n",
              "\n",
              "                                      Indicator MEASURE Measure INEQUALITY  \\\n",
              "0            Dwellings without basic facilities       L   Value        TOT   \n",
              "1            Dwellings without basic facilities       L   Value        TOT   \n",
              "2            Dwellings without basic facilities       L   Value        TOT   \n",
              "3            Dwellings without basic facilities       L   Value        TOT   \n",
              "4            Dwellings without basic facilities       L   Value        TOT   \n",
              "...                                         ...     ...     ...        ...   \n",
              "3287  Time devoted to leisure and personal care       L   Value        WMN   \n",
              "3288  Time devoted to leisure and personal care       L   Value        WMN   \n",
              "3289  Time devoted to leisure and personal care       L   Value        WMN   \n",
              "3290  Time devoted to leisure and personal care       L   Value        WMN   \n",
              "3291  Time devoted to leisure and personal care       L   Value        WMN   \n",
              "\n",
              "     Inequality Unit Code        Unit  PowerCode Code PowerCode  \\\n",
              "0         Total        PC  Percentage               0     units   \n",
              "1         Total        PC  Percentage               0     units   \n",
              "2         Total        PC  Percentage               0     units   \n",
              "3         Total        PC  Percentage               0     units   \n",
              "4         Total        PC  Percentage               0     units   \n",
              "...         ...       ...         ...             ...       ...   \n",
              "3287      Women      HOUR       Hours               0     units   \n",
              "3288      Women      HOUR       Hours               0     units   \n",
              "3289      Women      HOUR       Hours               0     units   \n",
              "3290      Women      HOUR       Hours               0     units   \n",
              "3291      Women      HOUR       Hours               0     units   \n",
              "\n",
              "      Reference Period Code  Reference Period  Value Flag Codes  \\\n",
              "0                       NaN               NaN   1.10          E   \n",
              "1                       NaN               NaN   1.00        NaN   \n",
              "2                       NaN               NaN   2.00        NaN   \n",
              "3                       NaN               NaN   0.20        NaN   \n",
              "4                       NaN               NaN   0.90        NaN   \n",
              "...                     ...               ...    ...        ...   \n",
              "3287                    NaN               NaN  14.43        NaN   \n",
              "3288                    NaN               NaN  14.24          E   \n",
              "3289                    NaN               NaN  14.75          E   \n",
              "3290                    NaN               NaN  14.12        NaN   \n",
              "3291                    NaN               NaN  14.74        NaN   \n",
              "\n",
              "                Flags  \n",
              "0     Estimated value  \n",
              "1                 NaN  \n",
              "2                 NaN  \n",
              "3                 NaN  \n",
              "4                 NaN  \n",
              "...               ...  \n",
              "3287              NaN  \n",
              "3288  Estimated value  \n",
              "3289  Estimated value  \n",
              "3290              NaN  \n",
              "3291              NaN  \n",
              "\n",
              "[3292 rows x 17 columns]"
            ]
          },
          "execution_count": 5,
          "metadata": {},
          "output_type": "execute_result"
        }
      ]
    },
    {
      "cell_type": "markdown",
      "metadata": {
        "id": "rCUzc4DTUnn2"
      },
      "source": [
        "## Preprocessing"
      ]
    },
    {
      "cell_type": "code",
      "metadata": {
        "id": "L8MU1NG0Unn2",
        "tags": [],
        "outputId": "861ea8d8-9ce9-452b-b533-827d8db63ce5"
      },
      "source": [
        "oecd_bli = oecd_bli[oecd_bli[\"INEQUALITY\"]==\"TOT\"]\n",
        "oecd_bli = oecd_bli.pivot(index=\"Country\", columns=\"Indicator\", values=\"Value\")\n",
        "oecd_bli.head()"
      ],
      "execution_count": null,
      "outputs": [
        {
          "data": {
            "text/html": [
              "<div>\n",
              "<style scoped>\n",
              "    .dataframe tbody tr th:only-of-type {\n",
              "        vertical-align: middle;\n",
              "    }\n",
              "\n",
              "    .dataframe tbody tr th {\n",
              "        vertical-align: top;\n",
              "    }\n",
              "\n",
              "    .dataframe thead th {\n",
              "        text-align: right;\n",
              "    }\n",
              "</style>\n",
              "<table border=\"1\" class=\"dataframe\">\n",
              "  <thead>\n",
              "    <tr style=\"text-align: right;\">\n",
              "      <th>Indicator</th>\n",
              "      <th>Air pollution</th>\n",
              "      <th>Assault rate</th>\n",
              "      <th>Consultation on rule-making</th>\n",
              "      <th>Dwellings without basic facilities</th>\n",
              "      <th>Educational attainment</th>\n",
              "      <th>Employees working very long hours</th>\n",
              "      <th>Employment rate</th>\n",
              "      <th>Homicide rate</th>\n",
              "      <th>Household net adjusted disposable income</th>\n",
              "      <th>Household net financial wealth</th>\n",
              "      <th>...</th>\n",
              "      <th>Long-term unemployment rate</th>\n",
              "      <th>Personal earnings</th>\n",
              "      <th>Quality of support network</th>\n",
              "      <th>Rooms per person</th>\n",
              "      <th>Self-reported health</th>\n",
              "      <th>Student skills</th>\n",
              "      <th>Time devoted to leisure and personal care</th>\n",
              "      <th>Voter turnout</th>\n",
              "      <th>Water quality</th>\n",
              "      <th>Years in education</th>\n",
              "    </tr>\n",
              "    <tr>\n",
              "      <th>Country</th>\n",
              "      <th></th>\n",
              "      <th></th>\n",
              "      <th></th>\n",
              "      <th></th>\n",
              "      <th></th>\n",
              "      <th></th>\n",
              "      <th></th>\n",
              "      <th></th>\n",
              "      <th></th>\n",
              "      <th></th>\n",
              "      <th></th>\n",
              "      <th></th>\n",
              "      <th></th>\n",
              "      <th></th>\n",
              "      <th></th>\n",
              "      <th></th>\n",
              "      <th></th>\n",
              "      <th></th>\n",
              "      <th></th>\n",
              "      <th></th>\n",
              "      <th></th>\n",
              "    </tr>\n",
              "  </thead>\n",
              "  <tbody>\n",
              "    <tr>\n",
              "      <th>Australia</th>\n",
              "      <td>13.0</td>\n",
              "      <td>2.1</td>\n",
              "      <td>10.5</td>\n",
              "      <td>1.1</td>\n",
              "      <td>76.0</td>\n",
              "      <td>14.02</td>\n",
              "      <td>72.0</td>\n",
              "      <td>0.8</td>\n",
              "      <td>31588.0</td>\n",
              "      <td>47657.0</td>\n",
              "      <td>...</td>\n",
              "      <td>1.08</td>\n",
              "      <td>50449.0</td>\n",
              "      <td>92.0</td>\n",
              "      <td>2.3</td>\n",
              "      <td>85.0</td>\n",
              "      <td>512.0</td>\n",
              "      <td>14.41</td>\n",
              "      <td>93.0</td>\n",
              "      <td>91.0</td>\n",
              "      <td>19.4</td>\n",
              "    </tr>\n",
              "    <tr>\n",
              "      <th>Austria</th>\n",
              "      <td>27.0</td>\n",
              "      <td>3.4</td>\n",
              "      <td>7.1</td>\n",
              "      <td>1.0</td>\n",
              "      <td>83.0</td>\n",
              "      <td>7.61</td>\n",
              "      <td>72.0</td>\n",
              "      <td>0.4</td>\n",
              "      <td>31173.0</td>\n",
              "      <td>49887.0</td>\n",
              "      <td>...</td>\n",
              "      <td>1.19</td>\n",
              "      <td>45199.0</td>\n",
              "      <td>89.0</td>\n",
              "      <td>1.6</td>\n",
              "      <td>69.0</td>\n",
              "      <td>500.0</td>\n",
              "      <td>14.46</td>\n",
              "      <td>75.0</td>\n",
              "      <td>94.0</td>\n",
              "      <td>17.0</td>\n",
              "    </tr>\n",
              "    <tr>\n",
              "      <th>Belgium</th>\n",
              "      <td>21.0</td>\n",
              "      <td>6.6</td>\n",
              "      <td>4.5</td>\n",
              "      <td>2.0</td>\n",
              "      <td>72.0</td>\n",
              "      <td>4.57</td>\n",
              "      <td>62.0</td>\n",
              "      <td>1.1</td>\n",
              "      <td>28307.0</td>\n",
              "      <td>83876.0</td>\n",
              "      <td>...</td>\n",
              "      <td>3.88</td>\n",
              "      <td>48082.0</td>\n",
              "      <td>94.0</td>\n",
              "      <td>2.2</td>\n",
              "      <td>74.0</td>\n",
              "      <td>509.0</td>\n",
              "      <td>15.71</td>\n",
              "      <td>89.0</td>\n",
              "      <td>87.0</td>\n",
              "      <td>18.9</td>\n",
              "    </tr>\n",
              "    <tr>\n",
              "      <th>Brazil</th>\n",
              "      <td>18.0</td>\n",
              "      <td>7.9</td>\n",
              "      <td>4.0</td>\n",
              "      <td>6.7</td>\n",
              "      <td>45.0</td>\n",
              "      <td>10.41</td>\n",
              "      <td>67.0</td>\n",
              "      <td>25.5</td>\n",
              "      <td>11664.0</td>\n",
              "      <td>6844.0</td>\n",
              "      <td>...</td>\n",
              "      <td>1.97</td>\n",
              "      <td>17177.0</td>\n",
              "      <td>90.0</td>\n",
              "      <td>1.6</td>\n",
              "      <td>69.0</td>\n",
              "      <td>402.0</td>\n",
              "      <td>14.97</td>\n",
              "      <td>79.0</td>\n",
              "      <td>72.0</td>\n",
              "      <td>16.3</td>\n",
              "    </tr>\n",
              "    <tr>\n",
              "      <th>Canada</th>\n",
              "      <td>15.0</td>\n",
              "      <td>1.3</td>\n",
              "      <td>10.5</td>\n",
              "      <td>0.2</td>\n",
              "      <td>89.0</td>\n",
              "      <td>3.94</td>\n",
              "      <td>72.0</td>\n",
              "      <td>1.5</td>\n",
              "      <td>29365.0</td>\n",
              "      <td>67913.0</td>\n",
              "      <td>...</td>\n",
              "      <td>0.90</td>\n",
              "      <td>46911.0</td>\n",
              "      <td>92.0</td>\n",
              "      <td>2.5</td>\n",
              "      <td>89.0</td>\n",
              "      <td>522.0</td>\n",
              "      <td>14.25</td>\n",
              "      <td>61.0</td>\n",
              "      <td>91.0</td>\n",
              "      <td>17.2</td>\n",
              "    </tr>\n",
              "  </tbody>\n",
              "</table>\n",
              "<p>5 rows × 24 columns</p>\n",
              "</div>"
            ],
            "text/plain": [
              "Indicator  Air pollution  Assault rate  Consultation on rule-making  \\\n",
              "Country                                                               \n",
              "Australia           13.0           2.1                         10.5   \n",
              "Austria             27.0           3.4                          7.1   \n",
              "Belgium             21.0           6.6                          4.5   \n",
              "Brazil              18.0           7.9                          4.0   \n",
              "Canada              15.0           1.3                         10.5   \n",
              "\n",
              "Indicator  Dwellings without basic facilities  Educational attainment  \\\n",
              "Country                                                                 \n",
              "Australia                                 1.1                    76.0   \n",
              "Austria                                   1.0                    83.0   \n",
              "Belgium                                   2.0                    72.0   \n",
              "Brazil                                    6.7                    45.0   \n",
              "Canada                                    0.2                    89.0   \n",
              "\n",
              "Indicator  Employees working very long hours  Employment rate  Homicide rate  \\\n",
              "Country                                                                        \n",
              "Australia                              14.02             72.0            0.8   \n",
              "Austria                                 7.61             72.0            0.4   \n",
              "Belgium                                 4.57             62.0            1.1   \n",
              "Brazil                                 10.41             67.0           25.5   \n",
              "Canada                                  3.94             72.0            1.5   \n",
              "\n",
              "Indicator  Household net adjusted disposable income  \\\n",
              "Country                                               \n",
              "Australia                                   31588.0   \n",
              "Austria                                     31173.0   \n",
              "Belgium                                     28307.0   \n",
              "Brazil                                      11664.0   \n",
              "Canada                                      29365.0   \n",
              "\n",
              "Indicator  Household net financial wealth  ...  Long-term unemployment rate  \\\n",
              "Country                                    ...                                \n",
              "Australia                         47657.0  ...                         1.08   \n",
              "Austria                           49887.0  ...                         1.19   \n",
              "Belgium                           83876.0  ...                         3.88   \n",
              "Brazil                             6844.0  ...                         1.97   \n",
              "Canada                            67913.0  ...                         0.90   \n",
              "\n",
              "Indicator  Personal earnings  Quality of support network  Rooms per person  \\\n",
              "Country                                                                      \n",
              "Australia            50449.0                        92.0               2.3   \n",
              "Austria              45199.0                        89.0               1.6   \n",
              "Belgium              48082.0                        94.0               2.2   \n",
              "Brazil               17177.0                        90.0               1.6   \n",
              "Canada               46911.0                        92.0               2.5   \n",
              "\n",
              "Indicator  Self-reported health  Student skills  \\\n",
              "Country                                           \n",
              "Australia                  85.0           512.0   \n",
              "Austria                    69.0           500.0   \n",
              "Belgium                    74.0           509.0   \n",
              "Brazil                     69.0           402.0   \n",
              "Canada                     89.0           522.0   \n",
              "\n",
              "Indicator  Time devoted to leisure and personal care  Voter turnout  \\\n",
              "Country                                                               \n",
              "Australia                                      14.41           93.0   \n",
              "Austria                                        14.46           75.0   \n",
              "Belgium                                        15.71           89.0   \n",
              "Brazil                                         14.97           79.0   \n",
              "Canada                                         14.25           61.0   \n",
              "\n",
              "Indicator  Water quality  Years in education  \n",
              "Country                                       \n",
              "Australia           91.0                19.4  \n",
              "Austria             94.0                17.0  \n",
              "Belgium             87.0                18.9  \n",
              "Brazil              72.0                16.3  \n",
              "Canada              91.0                17.2  \n",
              "\n",
              "[5 rows x 24 columns]"
            ]
          },
          "execution_count": 6,
          "metadata": {},
          "output_type": "execute_result"
        }
      ]
    },
    {
      "cell_type": "code",
      "metadata": {
        "id": "q8yJRazuUnn3",
        "outputId": "d842a92a-5a16-4853-fbca-0aac0321c9d2"
      },
      "source": [
        "#take a look to the first file\n",
        "gdp_per_capita.head()"
      ],
      "execution_count": null,
      "outputs": [
        {
          "data": {
            "text/html": [
              "<div>\n",
              "<style scoped>\n",
              "    .dataframe tbody tr th:only-of-type {\n",
              "        vertical-align: middle;\n",
              "    }\n",
              "\n",
              "    .dataframe tbody tr th {\n",
              "        vertical-align: top;\n",
              "    }\n",
              "\n",
              "    .dataframe thead th {\n",
              "        text-align: right;\n",
              "    }\n",
              "</style>\n",
              "<table border=\"1\" class=\"dataframe\">\n",
              "  <thead>\n",
              "    <tr style=\"text-align: right;\">\n",
              "      <th></th>\n",
              "      <th>Country</th>\n",
              "      <th>Subject Descriptor</th>\n",
              "      <th>Units</th>\n",
              "      <th>Scale</th>\n",
              "      <th>Country/Series-specific Notes</th>\n",
              "      <th>2015</th>\n",
              "      <th>Estimates Start After</th>\n",
              "    </tr>\n",
              "  </thead>\n",
              "  <tbody>\n",
              "    <tr>\n",
              "      <th>0</th>\n",
              "      <td>Afghanistan</td>\n",
              "      <td>Gross domestic product per capita, current prices</td>\n",
              "      <td>U.S. dollars</td>\n",
              "      <td>Units</td>\n",
              "      <td>See notes for:  Gross domestic product, curren...</td>\n",
              "      <td>599.994</td>\n",
              "      <td>2013.0</td>\n",
              "    </tr>\n",
              "    <tr>\n",
              "      <th>1</th>\n",
              "      <td>Albania</td>\n",
              "      <td>Gross domestic product per capita, current prices</td>\n",
              "      <td>U.S. dollars</td>\n",
              "      <td>Units</td>\n",
              "      <td>See notes for:  Gross domestic product, curren...</td>\n",
              "      <td>3995.383</td>\n",
              "      <td>2010.0</td>\n",
              "    </tr>\n",
              "    <tr>\n",
              "      <th>2</th>\n",
              "      <td>Algeria</td>\n",
              "      <td>Gross domestic product per capita, current prices</td>\n",
              "      <td>U.S. dollars</td>\n",
              "      <td>Units</td>\n",
              "      <td>See notes for:  Gross domestic product, curren...</td>\n",
              "      <td>4318.135</td>\n",
              "      <td>2014.0</td>\n",
              "    </tr>\n",
              "    <tr>\n",
              "      <th>3</th>\n",
              "      <td>Angola</td>\n",
              "      <td>Gross domestic product per capita, current prices</td>\n",
              "      <td>U.S. dollars</td>\n",
              "      <td>Units</td>\n",
              "      <td>See notes for:  Gross domestic product, curren...</td>\n",
              "      <td>4100.315</td>\n",
              "      <td>2014.0</td>\n",
              "    </tr>\n",
              "    <tr>\n",
              "      <th>4</th>\n",
              "      <td>Antigua and Barbuda</td>\n",
              "      <td>Gross domestic product per capita, current prices</td>\n",
              "      <td>U.S. dollars</td>\n",
              "      <td>Units</td>\n",
              "      <td>See notes for:  Gross domestic product, curren...</td>\n",
              "      <td>14414.302</td>\n",
              "      <td>2011.0</td>\n",
              "    </tr>\n",
              "  </tbody>\n",
              "</table>\n",
              "</div>"
            ],
            "text/plain": [
              "               Country                                 Subject Descriptor  \\\n",
              "0          Afghanistan  Gross domestic product per capita, current prices   \n",
              "1              Albania  Gross domestic product per capita, current prices   \n",
              "2              Algeria  Gross domestic product per capita, current prices   \n",
              "3               Angola  Gross domestic product per capita, current prices   \n",
              "4  Antigua and Barbuda  Gross domestic product per capita, current prices   \n",
              "\n",
              "          Units  Scale                      Country/Series-specific Notes  \\\n",
              "0  U.S. dollars  Units  See notes for:  Gross domestic product, curren...   \n",
              "1  U.S. dollars  Units  See notes for:  Gross domestic product, curren...   \n",
              "2  U.S. dollars  Units  See notes for:  Gross domestic product, curren...   \n",
              "3  U.S. dollars  Units  See notes for:  Gross domestic product, curren...   \n",
              "4  U.S. dollars  Units  See notes for:  Gross domestic product, curren...   \n",
              "\n",
              "        2015  Estimates Start After  \n",
              "0    599.994                 2013.0  \n",
              "1   3995.383                 2010.0  \n",
              "2   4318.135                 2014.0  \n",
              "3   4100.315                 2014.0  \n",
              "4  14414.302                 2011.0  "
            ]
          },
          "execution_count": 7,
          "metadata": {},
          "output_type": "execute_result"
        }
      ]
    },
    {
      "cell_type": "code",
      "metadata": {
        "id": "xoo0qRWrUnn3",
        "outputId": "f870007f-ad7e-4d7c-8c70-0d7fb17fbd1b"
      },
      "source": [
        "# Preprocessing of the data  (iterested with column \"2015\" which is the \"GDP per capita\")\n",
        "gdp_per_capita.rename(columns={\"2015\": \"GDP per capita\"}, inplace=True)\n",
        "gdp_per_capita.set_index(\"Country\", inplace=True)\n",
        "gdp_per_capita.head()"
      ],
      "execution_count": null,
      "outputs": [
        {
          "data": {
            "text/html": [
              "<div>\n",
              "<style scoped>\n",
              "    .dataframe tbody tr th:only-of-type {\n",
              "        vertical-align: middle;\n",
              "    }\n",
              "\n",
              "    .dataframe tbody tr th {\n",
              "        vertical-align: top;\n",
              "    }\n",
              "\n",
              "    .dataframe thead th {\n",
              "        text-align: right;\n",
              "    }\n",
              "</style>\n",
              "<table border=\"1\" class=\"dataframe\">\n",
              "  <thead>\n",
              "    <tr style=\"text-align: right;\">\n",
              "      <th></th>\n",
              "      <th>Subject Descriptor</th>\n",
              "      <th>Units</th>\n",
              "      <th>Scale</th>\n",
              "      <th>Country/Series-specific Notes</th>\n",
              "      <th>GDP per capita</th>\n",
              "      <th>Estimates Start After</th>\n",
              "    </tr>\n",
              "    <tr>\n",
              "      <th>Country</th>\n",
              "      <th></th>\n",
              "      <th></th>\n",
              "      <th></th>\n",
              "      <th></th>\n",
              "      <th></th>\n",
              "      <th></th>\n",
              "    </tr>\n",
              "  </thead>\n",
              "  <tbody>\n",
              "    <tr>\n",
              "      <th>Afghanistan</th>\n",
              "      <td>Gross domestic product per capita, current prices</td>\n",
              "      <td>U.S. dollars</td>\n",
              "      <td>Units</td>\n",
              "      <td>See notes for:  Gross domestic product, curren...</td>\n",
              "      <td>599.994</td>\n",
              "      <td>2013.0</td>\n",
              "    </tr>\n",
              "    <tr>\n",
              "      <th>Albania</th>\n",
              "      <td>Gross domestic product per capita, current prices</td>\n",
              "      <td>U.S. dollars</td>\n",
              "      <td>Units</td>\n",
              "      <td>See notes for:  Gross domestic product, curren...</td>\n",
              "      <td>3995.383</td>\n",
              "      <td>2010.0</td>\n",
              "    </tr>\n",
              "    <tr>\n",
              "      <th>Algeria</th>\n",
              "      <td>Gross domestic product per capita, current prices</td>\n",
              "      <td>U.S. dollars</td>\n",
              "      <td>Units</td>\n",
              "      <td>See notes for:  Gross domestic product, curren...</td>\n",
              "      <td>4318.135</td>\n",
              "      <td>2014.0</td>\n",
              "    </tr>\n",
              "    <tr>\n",
              "      <th>Angola</th>\n",
              "      <td>Gross domestic product per capita, current prices</td>\n",
              "      <td>U.S. dollars</td>\n",
              "      <td>Units</td>\n",
              "      <td>See notes for:  Gross domestic product, curren...</td>\n",
              "      <td>4100.315</td>\n",
              "      <td>2014.0</td>\n",
              "    </tr>\n",
              "    <tr>\n",
              "      <th>Antigua and Barbuda</th>\n",
              "      <td>Gross domestic product per capita, current prices</td>\n",
              "      <td>U.S. dollars</td>\n",
              "      <td>Units</td>\n",
              "      <td>See notes for:  Gross domestic product, curren...</td>\n",
              "      <td>14414.302</td>\n",
              "      <td>2011.0</td>\n",
              "    </tr>\n",
              "  </tbody>\n",
              "</table>\n",
              "</div>"
            ],
            "text/plain": [
              "                                                    Subject Descriptor  \\\n",
              "Country                                                                  \n",
              "Afghanistan          Gross domestic product per capita, current prices   \n",
              "Albania              Gross domestic product per capita, current prices   \n",
              "Algeria              Gross domestic product per capita, current prices   \n",
              "Angola               Gross domestic product per capita, current prices   \n",
              "Antigua and Barbuda  Gross domestic product per capita, current prices   \n",
              "\n",
              "                            Units  Scale  \\\n",
              "Country                                    \n",
              "Afghanistan          U.S. dollars  Units   \n",
              "Albania              U.S. dollars  Units   \n",
              "Algeria              U.S. dollars  Units   \n",
              "Angola               U.S. dollars  Units   \n",
              "Antigua and Barbuda  U.S. dollars  Units   \n",
              "\n",
              "                                         Country/Series-specific Notes  \\\n",
              "Country                                                                  \n",
              "Afghanistan          See notes for:  Gross domestic product, curren...   \n",
              "Albania              See notes for:  Gross domestic product, curren...   \n",
              "Algeria              See notes for:  Gross domestic product, curren...   \n",
              "Angola               See notes for:  Gross domestic product, curren...   \n",
              "Antigua and Barbuda  See notes for:  Gross domestic product, curren...   \n",
              "\n",
              "                     GDP per capita  Estimates Start After  \n",
              "Country                                                     \n",
              "Afghanistan                 599.994                 2013.0  \n",
              "Albania                    3995.383                 2010.0  \n",
              "Algeria                    4318.135                 2014.0  \n",
              "Angola                     4100.315                 2014.0  \n",
              "Antigua and Barbuda       14414.302                 2011.0  "
            ]
          },
          "execution_count": 8,
          "metadata": {},
          "output_type": "execute_result"
        }
      ]
    },
    {
      "cell_type": "code",
      "metadata": {
        "id": "t4_xgegeUnn4",
        "outputId": "7cdf70db-107c-459d-e72d-2778e7fb775a"
      },
      "source": [
        "#merge data  \n",
        "full_country_stats = pd.merge(left=oecd_bli, right=gdp_per_capita,\n",
        "                              left_index=True, right_index=True)\n",
        "print(full_country_stats.head())\n",
        "full_country_stats.sort_values(by=\"GDP per capita\", inplace=True)\n",
        "\n",
        "data = full_country_stats[[\"GDP per capita\", 'Life satisfaction']]\n",
        "data.head()\n"
      ],
      "execution_count": null,
      "outputs": [
        {
          "name": "stdout",
          "output_type": "stream",
          "text": [
            "           Air pollution  Assault rate  Consultation on rule-making  \\\n",
            "Country                                                               \n",
            "Australia           13.0           2.1                         10.5   \n",
            "Austria             27.0           3.4                          7.1   \n",
            "Belgium             21.0           6.6                          4.5   \n",
            "Brazil              18.0           7.9                          4.0   \n",
            "Canada              15.0           1.3                         10.5   \n",
            "\n",
            "           Dwellings without basic facilities  Educational attainment  \\\n",
            "Country                                                                 \n",
            "Australia                                 1.1                    76.0   \n",
            "Austria                                   1.0                    83.0   \n",
            "Belgium                                   2.0                    72.0   \n",
            "Brazil                                    6.7                    45.0   \n",
            "Canada                                    0.2                    89.0   \n",
            "\n",
            "           Employees working very long hours  Employment rate  Homicide rate  \\\n",
            "Country                                                                        \n",
            "Australia                              14.02             72.0            0.8   \n",
            "Austria                                 7.61             72.0            0.4   \n",
            "Belgium                                 4.57             62.0            1.1   \n",
            "Brazil                                 10.41             67.0           25.5   \n",
            "Canada                                  3.94             72.0            1.5   \n",
            "\n",
            "           Household net adjusted disposable income  \\\n",
            "Country                                               \n",
            "Australia                                   31588.0   \n",
            "Austria                                     31173.0   \n",
            "Belgium                                     28307.0   \n",
            "Brazil                                      11664.0   \n",
            "Canada                                      29365.0   \n",
            "\n",
            "           Household net financial wealth  ...  \\\n",
            "Country                                    ...   \n",
            "Australia                         47657.0  ...   \n",
            "Austria                           49887.0  ...   \n",
            "Belgium                           83876.0  ...   \n",
            "Brazil                             6844.0  ...   \n",
            "Canada                            67913.0  ...   \n",
            "\n",
            "           Time devoted to leisure and personal care  Voter turnout  \\\n",
            "Country                                                               \n",
            "Australia                                      14.41           93.0   \n",
            "Austria                                        14.46           75.0   \n",
            "Belgium                                        15.71           89.0   \n",
            "Brazil                                         14.97           79.0   \n",
            "Canada                                         14.25           61.0   \n",
            "\n",
            "           Water quality  Years in education  \\\n",
            "Country                                        \n",
            "Australia           91.0                19.4   \n",
            "Austria             94.0                17.0   \n",
            "Belgium             87.0                18.9   \n",
            "Brazil              72.0                16.3   \n",
            "Canada              91.0                17.2   \n",
            "\n",
            "                                          Subject Descriptor         Units  \\\n",
            "Country                                                                      \n",
            "Australia  Gross domestic product per capita, current prices  U.S. dollars   \n",
            "Austria    Gross domestic product per capita, current prices  U.S. dollars   \n",
            "Belgium    Gross domestic product per capita, current prices  U.S. dollars   \n",
            "Brazil     Gross domestic product per capita, current prices  U.S. dollars   \n",
            "Canada     Gross domestic product per capita, current prices  U.S. dollars   \n",
            "\n",
            "           Scale                      Country/Series-specific Notes  \\\n",
            "Country                                                               \n",
            "Australia  Units  See notes for:  Gross domestic product, curren...   \n",
            "Austria    Units  See notes for:  Gross domestic product, curren...   \n",
            "Belgium    Units  See notes for:  Gross domestic product, curren...   \n",
            "Brazil     Units  See notes for:  Gross domestic product, curren...   \n",
            "Canada     Units  See notes for:  Gross domestic product, curren...   \n",
            "\n",
            "           GDP per capita  Estimates Start After  \n",
            "Country                                           \n",
            "Australia       50961.865                 2014.0  \n",
            "Austria         43724.031                 2015.0  \n",
            "Belgium         40106.632                 2014.0  \n",
            "Brazil           8669.998                 2014.0  \n",
            "Canada          43331.961                 2015.0  \n",
            "\n",
            "[5 rows x 30 columns]\n"
          ]
        },
        {
          "data": {
            "text/html": [
              "<div>\n",
              "<style scoped>\n",
              "    .dataframe tbody tr th:only-of-type {\n",
              "        vertical-align: middle;\n",
              "    }\n",
              "\n",
              "    .dataframe tbody tr th {\n",
              "        vertical-align: top;\n",
              "    }\n",
              "\n",
              "    .dataframe thead th {\n",
              "        text-align: right;\n",
              "    }\n",
              "</style>\n",
              "<table border=\"1\" class=\"dataframe\">\n",
              "  <thead>\n",
              "    <tr style=\"text-align: right;\">\n",
              "      <th></th>\n",
              "      <th>GDP per capita</th>\n",
              "      <th>Life satisfaction</th>\n",
              "    </tr>\n",
              "    <tr>\n",
              "      <th>Country</th>\n",
              "      <th></th>\n",
              "      <th></th>\n",
              "    </tr>\n",
              "  </thead>\n",
              "  <tbody>\n",
              "    <tr>\n",
              "      <th>Brazil</th>\n",
              "      <td>8669.998</td>\n",
              "      <td>7.0</td>\n",
              "    </tr>\n",
              "    <tr>\n",
              "      <th>Mexico</th>\n",
              "      <td>9009.280</td>\n",
              "      <td>6.7</td>\n",
              "    </tr>\n",
              "    <tr>\n",
              "      <th>Russia</th>\n",
              "      <td>9054.914</td>\n",
              "      <td>6.0</td>\n",
              "    </tr>\n",
              "    <tr>\n",
              "      <th>Turkey</th>\n",
              "      <td>9437.372</td>\n",
              "      <td>5.6</td>\n",
              "    </tr>\n",
              "    <tr>\n",
              "      <th>Hungary</th>\n",
              "      <td>12239.894</td>\n",
              "      <td>4.9</td>\n",
              "    </tr>\n",
              "  </tbody>\n",
              "</table>\n",
              "</div>"
            ],
            "text/plain": [
              "         GDP per capita  Life satisfaction\n",
              "Country                                   \n",
              "Brazil         8669.998                7.0\n",
              "Mexico         9009.280                6.7\n",
              "Russia         9054.914                6.0\n",
              "Turkey         9437.372                5.6\n",
              "Hungary       12239.894                4.9"
            ]
          },
          "execution_count": 9,
          "metadata": {},
          "output_type": "execute_result"
        }
      ]
    },
    {
      "cell_type": "markdown",
      "metadata": {
        "id": "CWT4LdvQUnn4"
      },
      "source": [
        "## Linear Regression Model"
      ]
    },
    {
      "cell_type": "code",
      "metadata": {
        "id": "yIA85GbFUnn4",
        "outputId": "48a8485e-13bb-41ee-8ec2-b163bbbc459f"
      },
      "source": [
        "data.head()"
      ],
      "execution_count": null,
      "outputs": [
        {
          "data": {
            "text/html": [
              "<div>\n",
              "<style scoped>\n",
              "    .dataframe tbody tr th:only-of-type {\n",
              "        vertical-align: middle;\n",
              "    }\n",
              "\n",
              "    .dataframe tbody tr th {\n",
              "        vertical-align: top;\n",
              "    }\n",
              "\n",
              "    .dataframe thead th {\n",
              "        text-align: right;\n",
              "    }\n",
              "</style>\n",
              "<table border=\"1\" class=\"dataframe\">\n",
              "  <thead>\n",
              "    <tr style=\"text-align: right;\">\n",
              "      <th></th>\n",
              "      <th>GDP per capita</th>\n",
              "      <th>Life satisfaction</th>\n",
              "    </tr>\n",
              "    <tr>\n",
              "      <th>Country</th>\n",
              "      <th></th>\n",
              "      <th></th>\n",
              "    </tr>\n",
              "  </thead>\n",
              "  <tbody>\n",
              "    <tr>\n",
              "      <th>Brazil</th>\n",
              "      <td>8669.998</td>\n",
              "      <td>7.0</td>\n",
              "    </tr>\n",
              "    <tr>\n",
              "      <th>Mexico</th>\n",
              "      <td>9009.280</td>\n",
              "      <td>6.7</td>\n",
              "    </tr>\n",
              "    <tr>\n",
              "      <th>Russia</th>\n",
              "      <td>9054.914</td>\n",
              "      <td>6.0</td>\n",
              "    </tr>\n",
              "    <tr>\n",
              "      <th>Turkey</th>\n",
              "      <td>9437.372</td>\n",
              "      <td>5.6</td>\n",
              "    </tr>\n",
              "    <tr>\n",
              "      <th>Hungary</th>\n",
              "      <td>12239.894</td>\n",
              "      <td>4.9</td>\n",
              "    </tr>\n",
              "  </tbody>\n",
              "</table>\n",
              "</div>"
            ],
            "text/plain": [
              "         GDP per capita  Life satisfaction\n",
              "Country                                   \n",
              "Brazil         8669.998                7.0\n",
              "Mexico         9009.280                6.7\n",
              "Russia         9054.914                6.0\n",
              "Turkey         9437.372                5.6\n",
              "Hungary       12239.894                4.9"
            ]
          },
          "execution_count": 10,
          "metadata": {},
          "output_type": "execute_result"
        }
      ]
    },
    {
      "cell_type": "markdown",
      "metadata": {
        "id": "lQAVDu7SUnn4"
      },
      "source": [
        "### Select some features"
      ]
    },
    {
      "cell_type": "code",
      "metadata": {
        "id": "EbUKoyhCUnn5",
        "outputId": "721da88e-61ad-445f-976a-e6ef25bd8055"
      },
      "source": [
        "#select the features you are interested in\n",
        "X = np.c_[data[\"GDP per capita\"]]\n",
        "y = np.c_[data[\"Life satisfaction\"]]\n",
        "np.shape(X)"
      ],
      "execution_count": null,
      "outputs": [
        {
          "data": {
            "text/plain": [
              "(36, 1)"
            ]
          },
          "execution_count": 11,
          "metadata": {},
          "output_type": "execute_result"
        }
      ]
    },
    {
      "cell_type": "markdown",
      "metadata": {
        "id": "4SOfVqT8Unn5"
      },
      "source": [
        "### Visualization"
      ]
    },
    {
      "cell_type": "code",
      "metadata": {
        "id": "26YREedvUnn5",
        "outputId": "c6c3941a-87d0-4abd-d82b-25833c2a2e37"
      },
      "source": [
        "# Visualize the sample data\n",
        "mpl.rc('axes', labelsize=14)\n",
        "mpl.rc('xtick', labelsize=12)\n",
        "mpl.rc('ytick', labelsize=12)\n",
        "\n",
        "data.plot(kind='scatter', x=\"GDP per capita\", y='Life satisfaction', figsize=(5,3))\n",
        "plt.axis([0, 60000, 0, 10])\n",
        "\n",
        "plt.xlabel(\"GDP per capita (USD)\")\n",
        "\n",
        "plt.show()\n",
        "#"
      ],
      "execution_count": null,
      "outputs": [
        {
          "data": {
            "image/png": "[encoded data removed]",
            "text/plain": [
              "<Figure size 360x216 with 1 Axes>"
            ]
          },
          "metadata": {
            "needs_background": "light"
          },
          "output_type": "display_data"
        }
      ]
    },
    {
      "cell_type": "markdown",
      "metadata": {
        "id": "NmryVasmUnn8"
      },
      "source": [
        "### Training"
      ]
    },
    {
      "cell_type": "code",
      "metadata": {
        "id": "Talhex5rUnn8",
        "outputId": "22e09631-a925-44ab-830f-ea5ed30cad58"
      },
      "source": [
        "lrModel = sklearn.linear_model.LinearRegression()\n",
        "\n",
        "# Train the model\n",
        "lrModel.fit(X, y)\n",
        "\n",
        "#model parameters\n",
        "w0, w1 = lrModel.intercept_[0], lrModel.coef_[0][0]\n",
        "\n",
        "#R2 (when R2=1, all data is fit -> the Loss(w)=0)\n",
        "print(lrModel.score(X, y))"
      ],
      "execution_count": null,
      "outputs": [
        {
          "name": "stdout",
          "output_type": "stream",
          "text": [
            "0.40410998750014093\n"
          ]
        }
      ]
    },
    {
      "cell_type": "code",
      "metadata": {
        "id": "jO5HqQUNUnn9",
        "outputId": "d8e2ad6c-ec86-4f8d-d0b1-2e1b092665d9"
      },
      "source": [
        "#plot\n",
        "data.plot(kind='scatter', x=\"GDP per capita\", y='Life satisfaction', figsize=(5,3))\n",
        "plt.xlabel(\"GDP per capita (USD)\")\n",
        "plt.axis([0, 60000, 0, 10])\n",
        "x=np.linspace(0, 60000, 1000)\n",
        "plt.plot(x, w0 + w1*x, \"g\")\n",
        "\n",
        "#save_fig('best_fit_model_plot')\n",
        "plt.show()"
      ],
      "execution_count": null,
      "outputs": [
        {
          "data": {
            "image/png": "[encoded data removed]",
            "text/plain": [
              "<Figure size 360x216 with 1 Axes>"
            ]
          },
          "metadata": {
            "needs_background": "light"
          },
          "output_type": "display_data"
        }
      ]
    },
    {
      "cell_type": "markdown",
      "metadata": {
        "id": "P63r50AwUnn9"
      },
      "source": [
        "### Prediction"
      ]
    },
    {
      "cell_type": "code",
      "metadata": {
        "id": "Q24m_FaCUnn9",
        "outputId": "29c4c60e-9e05-4e26-c4a3-333e164d97a9"
      },
      "source": [
        "# Make a prediction for Cyprus\n",
        "X_new = [[22587]]  # Cyprus' GDP per capita\n",
        "print(lrModel.predict(X_new)) # outputs [[ 5.96242338]]"
      ],
      "execution_count": null,
      "outputs": [
        {
          "name": "stdout",
          "output_type": "stream",
          "text": [
            "[[6.28653637]]\n"
          ]
        }
      ]
    },
    {
      "cell_type": "markdown",
      "metadata": {
        "id": "X8TyBiKFUnn9"
      },
      "source": [
        "## Add polynomial features"
      ]
    },
    {
      "cell_type": "code",
      "metadata": {
        "id": "cguwfpBwUnn9",
        "outputId": "c5d1ad2a-7dc5-4d57-a609-22932d4c012b"
      },
      "source": [
        "poly = preprocessing.PolynomialFeatures(degree=5, include_bias=False)\n",
        "scaler = preprocessing.StandardScaler()\n",
        "\n",
        "pipelineLRModel = pipeline.Pipeline([('poly', poly), ('scal', scaler), ('lin', lrModel)])\n",
        "np.shape(X)\n",
        "np.shape(y)\n",
        "pipelineLRModel.fit(X, y)"
      ],
      "execution_count": null,
      "outputs": [
        {
          "data": {
            "text/plain": [
              "Pipeline(steps=[('poly', PolynomialFeatures(degree=5, include_bias=False)),\n",
              "                ('scal', StandardScaler()), ('lin', LinearRegression())])"
            ]
          },
          "execution_count": 16,
          "metadata": {},
          "output_type": "execute_result"
        }
      ]
    },
    {
      "cell_type": "code",
      "metadata": {
        "id": "My36FUNlUnn-",
        "outputId": "4bbd8810-a940-4bff-aaa0-6f1046e7628c"
      },
      "source": [
        "data.plot(kind='scatter', x=\"GDP per capita\", y='Life satisfaction', figsize=(8,3))\n",
        "plt.axis([0, 110000, 0, 10])\n",
        "\n",
        "curve = pipelineLRModel.predict(X)\n",
        "plt.plot(X, curve)\n",
        "plt.xlabel(\"GDP per capita (USD)\")\n",
        "plt.show()\n"
      ],
      "execution_count": null,
      "outputs": [
        {
          "data": {
            "image/png": "[encoded data removed]",
            "text/plain": [
              "<Figure size 576x216 with 1 Axes>"
            ]
          },
          "metadata": {
            "needs_background": "light"
          },
          "output_type": "display_data"
        }
      ]
    },
    {
      "cell_type": "code",
      "metadata": {
        "id": "QtQgLb8UUnn-",
        "outputId": "fcc8719d-dc78-46b9-c410-6a19f82b9fbd"
      },
      "source": [
        "#R2\n",
        "print(pipelineLRModel.score(X, y))"
      ],
      "execution_count": null,
      "outputs": [
        {
          "name": "stdout",
          "output_type": "stream",
          "text": [
            "0.6806653014078123\n"
          ]
        }
      ]
    },
    {
      "cell_type": "markdown",
      "metadata": {
        "id": "d1P5akrzUnn-"
      },
      "source": [
        "### Regularization (Ridge)"
      ]
    },
    {
      "cell_type": "code",
      "metadata": {
        "id": "lBXE1wG0Unn_",
        "tags": []
      },
      "source": [
        "lrModelRidge = sklearn.linear_model.Ridge(alpha=10**9.5) # alpha == lambda notation in the course\n",
        "Xsample = np.c_[data[\"GDP per capita\"]]\n",
        "ysample = np.c_[data[\"Life satisfaction\"]]\n",
        "lrModelRidge.fit(Xsample, ysample)\n",
        "w0ridge, w1ridge = lrModelRidge.intercept_[0], lrModelRidge.coef_[0][0]"
      ],
      "execution_count": null,
      "outputs": []
    },
    {
      "cell_type": "code",
      "metadata": {
        "id": "noDAUEuHUnn_",
        "outputId": "f4fb02be-8359-4016-9b6f-eb83d5c57967"
      },
      "source": [
        "f = plt.figure(figsize=(8,3))\n",
        "\n",
        "plt.xlabel(\"GDP per capita\")\n",
        "plt.ylabel('Life satisfaction')\n",
        "\n",
        "plt.plot(list(data[\"GDP per capita\"]), list(data[\"Life satisfaction\"]), \"bo\")\n",
        "\n",
        "x = np.linspace(0, 110000, 1000)\n",
        "plt.plot(x, w0 + w1*x, \"b:\", label=\"Linear model on sample data\")\n",
        "plt.plot(x, w0ridge + w1ridge * x, \"b\", label=\"Regularized linear model on sample data\")\n",
        "\n",
        "plt.legend(loc=\"lower right\")\n",
        "plt.axis([0, 110000, 0, 10])\n",
        "plt.xlabel(\"GDP per capita (USD)\")\n",
        "\n",
        "plt.show()"
      ],
      "execution_count": null,
      "outputs": [
        {
          "data": {
            "image/png": "[encoded data removed]",
            "text/plain": [
              "<Figure size 576x216 with 1 Axes>"
            ]
          },
          "metadata": {
            "needs_background": "light"
          },
          "output_type": "display_data"
        }
      ]
    },
    {
      "cell_type": "code",
      "metadata": {
        "id": "DBOwpjrdUnn_",
        "outputId": "f7e31f84-3020-4a2b-a9eb-f6c3196b1c57"
      },
      "source": [
        "#R2\n",
        "print(lrModelRidge.score(X, y))"
      ],
      "execution_count": null,
      "outputs": [
        {
          "name": "stdout",
          "output_type": "stream",
          "text": [
            "0.393541332439984\n"
          ]
        }
      ]
    },
    {
      "cell_type": "markdown",
      "metadata": {
        "id": "nwC6_plvUnn_"
      },
      "source": [
        "## LASSO regularisation"
      ]
    },
    {
      "cell_type": "code",
      "metadata": {
        "id": "MaBHKoB5Unn_",
        "tags": []
      },
      "source": [
        "lrModelLasso = sklearn.linear_model.Lasso(alpha=10**9.5) # alpha == lambda notation in the course\n",
        "Xsample = np.c_[data[\"GDP per capita\"]]\n",
        "ysample = np.c_[data[\"Life satisfaction\"]]\n",
        "lrModelLasso.fit(Xsample, ysample)\n",
        "w0Lasso, w1Lasso = lrModelLasso.intercept_, lrModelLasso.coef_"
      ],
      "execution_count": null,
      "outputs": []
    },
    {
      "cell_type": "code",
      "metadata": {
        "tags": [],
        "id": "UHc7-qCZTqQd",
        "outputId": "8c4342d7-afc2-4926-9f6c-dee13af119e2"
      },
      "source": [
        "f = plt.figure(figsize=(8,3))\n",
        "\n",
        "plt.xlabel(\"GDP per capita\")\n",
        "plt.ylabel('Life satisfaction')\n",
        "\n",
        "plt.plot(list(data[\"GDP per capita\"]), list(data[\"Life satisfaction\"]), \"bo\")\n",
        "\n",
        "x = np.linspace(0, 110000, 1000)\n",
        "plt.plot(x, w0 + w1*x, \"b:\", label=\"Linear model on sample data\")\n",
        "plt.plot(x, w0Lasso + w1Lasso * x, \"b\", label=\"Regularized linear model on sample data with Lasso\")\n",
        "\n",
        "plt.legend(loc=\"lower right\")\n",
        "plt.axis([0, 110000, 0, 10])\n",
        "plt.xlabel(\"GDP per capita (USD)\")\n",
        "\n",
        "plt.show()"
      ],
      "execution_count": null,
      "outputs": [
        {
          "data": {
            "image/png": "[encoded data removed]",
            "text/plain": [
              "<Figure size 576x216 with 1 Axes>"
            ]
          },
          "metadata": {
            "needs_background": "light"
          },
          "output_type": "display_data"
        }
      ]
    },
    {
      "cell_type": "code",
      "metadata": {
        "id": "297JkpnvTqQd",
        "outputId": "934b513c-7475-4dc9-e2de-b18ac1b02b7a"
      },
      "source": [
        "#R2\n",
        "print(lrModelLasso.score(X, y))"
      ],
      "execution_count": null,
      "outputs": [
        {
          "name": "stdout",
          "output_type": "stream",
          "text": [
            "0.0\n"
          ]
        }
      ]
    },
    {
      "cell_type": "markdown",
      "metadata": {
        "id": "XTLf5_ilVHWi"
      },
      "source": [
        "## Tune the regularization hyper-parameter alpha (lambda in the course)"
      ]
    },
    {
      "cell_type": "code",
      "metadata": {
        "id": "7HbQX5NrTqQd",
        "outputId": "b5b40dc6-fa35-40fb-8747-bfde492df2fd"
      },
      "source": [
        "# define model\n",
        "from sklearn.model_selection import GridSearchCV\n",
        "from sklearn.model_selection import RepeatedKFold\n",
        "from numpy import arange\n",
        "model = sklearn.linear_model.Lasso()\n",
        "# define model evaluation method\n",
        "cv = RepeatedKFold(n_splits=10, n_repeats=3, random_state=1)\n",
        "# define grid\n",
        "grid = dict()\n",
        "grid['alpha'] = arange(0, 1, 0.01)\n",
        "# define search\n",
        "search = GridSearchCV(model, grid, scoring='neg_mean_absolute_error', cv=cv, n_jobs=-1)\n",
        "# perform the search\n",
        "results = search.fit(X, y)\n",
        "# summarize\n",
        "print('MAE: %.3f' % results.best_score_)\n",
        "print('Config: %s' % results.best_params_)"
      ],
      "execution_count": null,
      "outputs": [
        {
          "name": "stdout",
          "output_type": "stream",
          "text": [
            "MAE: -0.525\n",
            "Config: {'alpha': 0.0}\n"
          ]
        },
        {
          "name": "stderr",
          "output_type": "stream",
          "text": [
            "/Users/mac/opt/anaconda3/lib/python3.8/site-packages/sklearn/model_selection/_search.py:880: UserWarning: With alpha=0, this algorithm does not converge well. You are advised to use the LinearRegression estimator\n",
            "  self.best_estimator_.fit(X, y, **fit_params)\n",
            "/Users/mac/opt/anaconda3/lib/python3.8/site-packages/sklearn/linear_model/_coordinate_descent.py:530: UserWarning: Coordinate descent with no regularization may lead to unexpected results and is discouraged.\n",
            "  model = cd_fast.enet_coordinate_descent(\n"
          ]
        }
      ]
    },
    {
      "cell_type": "code",
      "metadata": {
        "id": "kLZRXCJHTqQe"
      },
      "source": [
        ""
      ],
      "execution_count": null,
      "outputs": []
    }
  ]
}