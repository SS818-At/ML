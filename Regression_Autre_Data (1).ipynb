{
 "cells": [
  {
   "cell_type": "code",
   "execution_count": 4,
   "id": "30bd1ebb-2280-4d34-ba74-ba5307734ba3",
   "metadata": {
    "id": "30bd1ebb-2280-4d34-ba74-ba5307734ba3"
   },
   "outputs": [],
   "source": [
    "import sys\n",
    "import sklearn\n",
    "import os\n",
    "%matplotlib inline\n",
    "import matplotlib as mpl\n",
    "import matplotlib.pyplot as plt\n",
    "import numpy as np\n",
    "import pandas as pd\n",
    "import sklearn.linear_model\n",
    "import urllib.request\n",
    "from sklearn import preprocessing\n",
    "from sklearn import pipeline\n",
    "from sklearn import metrics"
   ]
  },
  {
   "cell_type": "markdown",
   "id": "k_p7-HAWVp5S",
   "metadata": {
    "id": "k_p7-HAWVp5S"
   },
   "source": [
    "## Download Data"
   ]
  },
  {
   "cell_type": "code",
   "execution_count": 5,
   "id": "8bb7c40c-be9e-43a1-99b3-f9979749079c",
   "metadata": {
    "colab": {
     "base_uri": "https://localhost:8080/",
     "height": 511
    },
    "id": "8bb7c40c-be9e-43a1-99b3-f9979749079c",
    "outputId": "adbb0632-3cb5-4b17-f05d-98ba46f2adcf"
   },
   "outputs": [],
   "source": [
    "data=pd.read_csv('/Users/mac/Downloads/insurance.csv')"
   ]
  },
  {
   "cell_type": "code",
   "execution_count": 6,
   "id": "080ccbeb-0ddf-4a9c-a4d5-7e2a8620024b",
   "metadata": {
    "id": "080ccbeb-0ddf-4a9c-a4d5-7e2a8620024b",
    "tags": []
   },
   "outputs": [
    {
     "data": {
      "text/html": [
       "<div>\n",
       "<style scoped>\n",
       "    .dataframe tbody tr th:only-of-type {\n",
       "        vertical-align: middle;\n",
       "    }\n",
       "\n",
       "    .dataframe tbody tr th {\n",
       "        vertical-align: top;\n",
       "    }\n",
       "\n",
       "    .dataframe thead th {\n",
       "        text-align: right;\n",
       "    }\n",
       "</style>\n",
       "<table border=\"1\" class=\"dataframe\">\n",
       "  <thead>\n",
       "    <tr style=\"text-align: right;\">\n",
       "      <th></th>\n",
       "      <th>age</th>\n",
       "      <th>sex</th>\n",
       "      <th>bmi</th>\n",
       "      <th>children</th>\n",
       "      <th>smoker</th>\n",
       "      <th>region</th>\n",
       "      <th>charges</th>\n",
       "    </tr>\n",
       "  </thead>\n",
       "  <tbody>\n",
       "    <tr>\n",
       "      <th>0</th>\n",
       "      <td>19</td>\n",
       "      <td>female</td>\n",
       "      <td>27.900</td>\n",
       "      <td>0</td>\n",
       "      <td>yes</td>\n",
       "      <td>southwest</td>\n",
       "      <td>16884.92400</td>\n",
       "    </tr>\n",
       "    <tr>\n",
       "      <th>1</th>\n",
       "      <td>18</td>\n",
       "      <td>male</td>\n",
       "      <td>33.770</td>\n",
       "      <td>1</td>\n",
       "      <td>no</td>\n",
       "      <td>southeast</td>\n",
       "      <td>1725.55230</td>\n",
       "    </tr>\n",
       "    <tr>\n",
       "      <th>2</th>\n",
       "      <td>28</td>\n",
       "      <td>male</td>\n",
       "      <td>33.000</td>\n",
       "      <td>3</td>\n",
       "      <td>no</td>\n",
       "      <td>southeast</td>\n",
       "      <td>4449.46200</td>\n",
       "    </tr>\n",
       "    <tr>\n",
       "      <th>3</th>\n",
       "      <td>33</td>\n",
       "      <td>male</td>\n",
       "      <td>22.705</td>\n",
       "      <td>0</td>\n",
       "      <td>no</td>\n",
       "      <td>northwest</td>\n",
       "      <td>21984.47061</td>\n",
       "    </tr>\n",
       "    <tr>\n",
       "      <th>4</th>\n",
       "      <td>32</td>\n",
       "      <td>male</td>\n",
       "      <td>28.880</td>\n",
       "      <td>0</td>\n",
       "      <td>no</td>\n",
       "      <td>northwest</td>\n",
       "      <td>3866.85520</td>\n",
       "    </tr>\n",
       "  </tbody>\n",
       "</table>\n",
       "</div>"
      ],
      "text/plain": [
       "   age     sex     bmi  children smoker     region      charges\n",
       "0   19  female  27.900         0    yes  southwest  16884.92400\n",
       "1   18    male  33.770         1     no  southeast   1725.55230\n",
       "2   28    male  33.000         3     no  southeast   4449.46200\n",
       "3   33    male  22.705         0     no  northwest  21984.47061\n",
       "4   32    male  28.880         0     no  northwest   3866.85520"
      ]
     },
     "execution_count": 6,
     "metadata": {},
     "output_type": "execute_result"
    }
   ],
   "source": [
    "data.head()"
   ]
  },
  {
   "cell_type": "markdown",
   "id": "puzyaWUYWzcK",
   "metadata": {
    "id": "puzyaWUYWzcK"
   },
   "source": [
    "## Linear Regression"
   ]
  },
  {
   "cell_type": "code",
   "execution_count": 7,
   "id": "42908c58-c3ff-4f07-8c70-17ba6f9d5683",
   "metadata": {
    "id": "42908c58-c3ff-4f07-8c70-17ba6f9d5683"
   },
   "outputs": [
    {
     "data": {
      "text/plain": [
       "(68, 1)"
      ]
     },
     "execution_count": 7,
     "metadata": {},
     "output_type": "execute_result"
    }
   ],
   "source": [
    "#select the features you are interested in\n",
    "X = np.c_[data[\"age\"]]\n",
    "y = np.c_[data[\"charges\"]]\n",
    "np.shape(X)"
   ]
  },
  {
   "cell_type": "code",
   "execution_count": 8,
   "id": "981e11a9-fb5a-481e-ab29-daece3377e60",
   "metadata": {
    "id": "981e11a9-fb5a-481e-ab29-daece3377e60",
    "tags": []
   },
   "outputs": [
    {
     "data": {
      "image/png": "[encoded data removed]",
      "text/plain": [
       "<Figure size 432x288 with 1 Axes>"
      ]
     },
     "metadata": {
      "needs_background": "light"
     },
     "output_type": "display_data"
    }
   ],
   "source": [
    "# Visualize the sample data\n",
    "data.plot(x='age', y='charges', style='o')   \n",
    "plt.xlabel('age')  \n",
    "plt.ylabel('charges')  \n",
    "plt.show()\n",
    "#"
   ]
  },
  {
   "cell_type": "code",
   "execution_count": 9,
   "id": "5663ba94-d9fc-4aa5-ae21-6b2d5f367cfd",
   "metadata": {
    "id": "5663ba94-d9fc-4aa5-ae21-6b2d5f367cfd"
   },
   "outputs": [
    {
     "name": "stdout",
     "output_type": "stream",
     "text": [
      "0.11833283373106884\n"
     ]
    }
   ],
   "source": [
    "lrModel = sklearn.linear_model.LinearRegression()\n",
    "X, X_test, y, y_test = sklearn.model_selection.train_test_split(X, y, test_size=0.2)\n",
    "# Train the model\n",
    "lrModel.fit(X, y)\n",
    "\n",
    "#model parameters\n",
    "w0, w1 = lrModel.intercept_[0], lrModel.coef_[0][0]\n",
    "\n",
    "#R2 (when R2=1, all data is fit -> the Loss(w)=0)\n",
    "#R2 est proche de 0 ce qui signifie que la relation entre 'age' et 'charges' est faible\n",
    "print(lrModel.score(X, y))"
   ]
  },
  {
   "cell_type": "code",
   "execution_count": 10,
   "id": "f94a4156-d6a3-40da-a75f-accc9deb9d7c",
   "metadata": {
    "id": "f94a4156-d6a3-40da-a75f-accc9deb9d7c"
   },
   "outputs": [
    {
     "data": {
      "image/png": "[encoded data removed]",
      "text/plain": [
       "<Figure size 432x288 with 1 Axes>"
      ]
     },
     "metadata": {
      "needs_background": "light"
     },
     "output_type": "display_data"
    }
   ],
   "source": [
    "#plot\n",
    "data.plot(x='age', y='charges', style='o')   \n",
    "plt.xlabel('age')  \n",
    "plt.ylabel('charges')\n",
    "x=np.linspace(0, 100,10)\n",
    "plt.plot(x, w0 + w1*x, \"g\")\n",
    "plt.show()\n"
   ]
  },
  {
   "cell_type": "markdown",
   "id": "QEr1MKHKW7kr",
   "metadata": {
    "id": "QEr1MKHKW7kr"
   },
   "source": [
    "## Prediction"
   ]
  },
  {
   "cell_type": "code",
   "execution_count": 11,
   "id": "23733046-d735-491b-ac09-095775e58fcf",
   "metadata": {
    "id": "23733046-d735-491b-ac09-095775e58fcf"
   },
   "outputs": [
    {
     "data": {
      "text/html": [
       "<div>\n",
       "<style scoped>\n",
       "    .dataframe tbody tr th:only-of-type {\n",
       "        vertical-align: middle;\n",
       "    }\n",
       "\n",
       "    .dataframe tbody tr th {\n",
       "        vertical-align: top;\n",
       "    }\n",
       "\n",
       "    .dataframe thead th {\n",
       "        text-align: right;\n",
       "    }\n",
       "</style>\n",
       "<table border=\"1\" class=\"dataframe\">\n",
       "  <thead>\n",
       "    <tr style=\"text-align: right;\">\n",
       "      <th></th>\n",
       "      <th>Valeurs réelles</th>\n",
       "      <th>Valeurs prédites</th>\n",
       "    </tr>\n",
       "  </thead>\n",
       "  <tbody>\n",
       "    <tr>\n",
       "      <th>0</th>\n",
       "      <td>8240.58960</td>\n",
       "      <td>17268.795032</td>\n",
       "    </tr>\n",
       "    <tr>\n",
       "      <th>1</th>\n",
       "      <td>36837.46700</td>\n",
       "      <td>12171.681539</td>\n",
       "    </tr>\n",
       "    <tr>\n",
       "      <th>2</th>\n",
       "      <td>6313.75900</td>\n",
       "      <td>14401.668692</td>\n",
       "    </tr>\n",
       "    <tr>\n",
       "      <th>3</th>\n",
       "      <td>3866.85520</td>\n",
       "      <td>12808.820726</td>\n",
       "    </tr>\n",
       "    <tr>\n",
       "      <th>4</th>\n",
       "      <td>14451.83515</td>\n",
       "      <td>22684.478118</td>\n",
       "    </tr>\n",
       "    <tr>\n",
       "      <th>5</th>\n",
       "      <td>11090.71780</td>\n",
       "      <td>20454.490965</td>\n",
       "    </tr>\n",
       "    <tr>\n",
       "      <th>6</th>\n",
       "      <td>2198.18985</td>\n",
       "      <td>8348.846419</td>\n",
       "    </tr>\n",
       "    <tr>\n",
       "      <th>7</th>\n",
       "      <td>34303.16720</td>\n",
       "      <td>8348.846419</td>\n",
       "    </tr>\n",
       "    <tr>\n",
       "      <th>8</th>\n",
       "      <td>23568.27200</td>\n",
       "      <td>17905.934218</td>\n",
       "    </tr>\n",
       "    <tr>\n",
       "      <th>9</th>\n",
       "      <td>47496.49445</td>\n",
       "      <td>21091.630151</td>\n",
       "    </tr>\n",
       "    <tr>\n",
       "      <th>10</th>\n",
       "      <td>4133.64165</td>\n",
       "      <td>11534.542352</td>\n",
       "    </tr>\n",
       "    <tr>\n",
       "      <th>11</th>\n",
       "      <td>14711.74380</td>\n",
       "      <td>8985.985606</td>\n",
       "    </tr>\n",
       "    <tr>\n",
       "      <th>12</th>\n",
       "      <td>10797.33620</td>\n",
       "      <td>19180.212592</td>\n",
       "    </tr>\n",
       "    <tr>\n",
       "      <th>13</th>\n",
       "      <td>13607.36875</td>\n",
       "      <td>21091.630151</td>\n",
       "    </tr>\n",
       "  </tbody>\n",
       "</table>\n",
       "</div>"
      ],
      "text/plain": [
       "    Valeurs réelles  Valeurs prédites\n",
       "0        8240.58960      17268.795032\n",
       "1       36837.46700      12171.681539\n",
       "2        6313.75900      14401.668692\n",
       "3        3866.85520      12808.820726\n",
       "4       14451.83515      22684.478118\n",
       "5       11090.71780      20454.490965\n",
       "6        2198.18985       8348.846419\n",
       "7       34303.16720       8348.846419\n",
       "8       23568.27200      17905.934218\n",
       "9       47496.49445      21091.630151\n",
       "10       4133.64165      11534.542352\n",
       "11      14711.74380       8985.985606\n",
       "12      10797.33620      19180.212592\n",
       "13      13607.36875      21091.630151"
      ]
     },
     "execution_count": 11,
     "metadata": {},
     "output_type": "execute_result"
    }
   ],
   "source": [
    "# Make a prediction for Cyprus\n",
    "y_pred=lrModel.predict(X_test)\n",
    "df = pd.DataFrame({'Valeurs réelles': y_test.flatten(), 'Valeurs prédites': y_pred.flatten()})\n",
    "df"
   ]
  },
  {
   "cell_type": "markdown",
   "id": "uolozQ6tXBq1",
   "metadata": {
    "id": "uolozQ6tXBq1"
   },
   "source": [
    "## Add polynomial features"
   ]
  },
  {
   "cell_type": "code",
   "execution_count": 12,
   "id": "5e4334fb-2813-459b-9c34-3e5cceff5bfa",
   "metadata": {
    "id": "5e4334fb-2813-459b-9c34-3e5cceff5bfa",
    "tags": []
   },
   "outputs": [
    {
     "data": {
      "text/plain": [
       "Pipeline(steps=[('poly', PolynomialFeatures(include_bias=False)),\n",
       "                ('scal', StandardScaler()), ('lin', LinearRegression())])"
      ]
     },
     "execution_count": 12,
     "metadata": {},
     "output_type": "execute_result"
    }
   ],
   "source": [
    "poly = preprocessing.PolynomialFeatures(degree=2, include_bias=False)\n",
    "scaler = preprocessing.StandardScaler()\n",
    "pipelineLRModel = pipeline.Pipeline([('poly', poly), ('scal', scaler), ('lin', lrModel)])\n",
    "np.shape(X)\n",
    "np.shape(y)\n",
    "pipelineLRModel.fit(X, y)"
   ]
  },
  {
   "cell_type": "code",
   "execution_count": 13,
   "id": "56659f18-38e9-4251-8efb-b84780f3731a",
   "metadata": {
    "id": "56659f18-38e9-4251-8efb-b84780f3731a"
   },
   "outputs": [
    {
     "data": {
      "image/png": "[encoded data removed]",
      "text/plain": [
       "<Figure size 432x288 with 1 Axes>"
      ]
     },
     "metadata": {
      "needs_background": "light"
     },
     "output_type": "display_data"
    }
   ],
   "source": [
    "data.plot(x='age', y='charges', style='o')   \n",
    "curve = pipelineLRModel.predict(X)\n",
    "plt.plot(X, curve)\n",
    "plt.show()"
   ]
  },
  {
   "cell_type": "code",
   "execution_count": 14,
   "id": "843eed1d-e878-4cac-bf34-4b75b96c8881",
   "metadata": {
    "id": "843eed1d-e878-4cac-bf34-4b75b96c8881"
   },
   "outputs": [
    {
     "name": "stdout",
     "output_type": "stream",
     "text": [
      "0.14019770931762598\n"
     ]
    }
   ],
   "source": [
    "print(pipelineLRModel.score(X, y))"
   ]
  },
  {
   "cell_type": "markdown",
   "id": "tgATaQF1XLgr",
   "metadata": {
    "id": "tgATaQF1XLgr"
   },
   "source": [
    "## Regularization (Ridge)"
   ]
  },
  {
   "cell_type": "code",
   "execution_count": 15,
   "id": "a0820b21-4c44-4b8a-8d1a-152e9f48f691",
   "metadata": {
    "id": "a0820b21-4c44-4b8a-8d1a-152e9f48f691"
   },
   "outputs": [],
   "source": [
    "lrModelRidge = sklearn.linear_model.Ridge(alpha=10**9.5) # alpha == lambda notation in the course\n",
    "Xsample = np.c_[data[\"age\"]]\n",
    "ysample = np.c_[data[\"charges\"]]\n",
    "lrModelRidge.fit(Xsample, ysample)\n",
    "w0ridge, w1ridge = lrModelRidge.intercept_[0], lrModelRidge.coef_[0][0]"
   ]
  },
  {
   "cell_type": "code",
   "execution_count": 16,
   "id": "2b922d8e-285f-45af-99e6-26e5c93126ed",
   "metadata": {
    "id": "2b922d8e-285f-45af-99e6-26e5c93126ed"
   },
   "outputs": [
    {
     "data": {
      "image/png": "[encoded data removed]",
      "text/plain": [
       "<Figure size 432x288 with 1 Axes>"
      ]
     },
     "metadata": {
      "needs_background": "light"
     },
     "output_type": "display_data"
    }
   ],
   "source": [
    "plt.xlabel(\"age\")\n",
    "plt.ylabel('charges')\n",
    "\n",
    "plt.plot(list(data[\"age\"]), list(data[\"charges\"]), \"bo\")\n",
    "plt.plot(x, w0 + w1*x, \"b:\", label=\"Linear model on sample data\")\n",
    "plt.plot(x, w0ridge + w1ridge * x, \"b\", label=\"Regularized linear model on sample data\")\n",
    "\n",
    "plt.legend(loc=\"lower right\")\n",
    "\n",
    "plt.show()"
   ]
  },
  {
   "cell_type": "code",
   "execution_count": 17,
   "id": "b6156346-8c9e-4440-b0ac-3363731effe3",
   "metadata": {
    "id": "b6156346-8c9e-4440-b0ac-3363731effe3"
   },
   "outputs": [
    {
     "name": "stdout",
     "output_type": "stream",
     "text": [
      "-0.0011808496747414132\n"
     ]
    }
   ],
   "source": [
    "#R2\n",
    "print(lrModelRidge.score(X, y))"
   ]
  },
  {
   "cell_type": "markdown",
   "id": "NRFvnBFjXeDm",
   "metadata": {
    "id": "NRFvnBFjXeDm"
   },
   "source": [
    "## Regularization Lasso"
   ]
  },
  {
   "cell_type": "code",
   "execution_count": 18,
   "id": "867e0a02-e4f3-4f8d-978c-d357cdd29aa1",
   "metadata": {
    "id": "867e0a02-e4f3-4f8d-978c-d357cdd29aa1"
   },
   "outputs": [],
   "source": [
    "lrModelLasso = sklearn.linear_model.Lasso(alpha=0.1) # alpha == lambda notation in the course\n",
    "Xsample = np.c_[data[\"age\"]]\n",
    "ysample = np.c_[data[\"charges\"]]\n",
    "lrModelLasso.fit(Xsample, ysample)\n",
    "w0Lasso, w1Lasso = lrModelLasso.intercept_, lrModelLasso.coef_"
   ]
  },
  {
   "cell_type": "code",
   "execution_count": 19,
   "id": "efd6286c-036b-4791-83a8-d495cbb6846f",
   "metadata": {
    "id": "efd6286c-036b-4791-83a8-d495cbb6846f"
   },
   "outputs": [
    {
     "data": {
      "image/png": "[encoded data removed]",
      "text/plain": [
       "<Figure size 432x288 with 1 Axes>"
      ]
     },
     "metadata": {
      "needs_background": "light"
     },
     "output_type": "display_data"
    }
   ],
   "source": [
    "plt.xlabel(\"age\")\n",
    "plt.ylabel('charges')\n",
    "\n",
    "plt.plot(list(data[\"age\"]), list(data[\"charges\"]), \"bo\")\n",
    "plt.plot(x, w0 + w1*x, \"b:\", label=\"Linear model on sample data\")\n",
    "plt.plot(x, w0Lasso + w1Lasso * x, \"b\", label=\"Regularized linear model on sample data with Lasso\")\n",
    "\n",
    "plt.legend(loc=\"lower right\")\n",
    "\n",
    "plt.show()\n",
    "\n",
    "plt.show()"
   ]
  },
  {
   "cell_type": "code",
   "execution_count": 20,
   "id": "dfb9364b-cc9f-41a5-ba8b-e636b68a87b6",
   "metadata": {
    "id": "dfb9364b-cc9f-41a5-ba8b-e636b68a87b6"
   },
   "outputs": [
    {
     "name": "stdout",
     "output_type": "stream",
     "text": [
      "0.11588338311439617\n"
     ]
    }
   ],
   "source": [
    "#R2\n",
    "print(lrModelLasso.score(X, y))"
   ]
  },
  {
   "cell_type": "markdown",
   "id": "9ka_8-VRXnia",
   "metadata": {
    "id": "9ka_8-VRXnia"
   },
   "source": [
    "## Multiple Linear Regression"
   ]
  },
  {
   "cell_type": "code",
   "execution_count": 21,
   "id": "226b1a3c-4f52-4258-812d-9e7703d81b22",
   "metadata": {
    "id": "226b1a3c-4f52-4258-812d-9e7703d81b22"
   },
   "outputs": [
    {
     "data": {
      "text/plain": [
       "(68, 2)"
      ]
     },
     "execution_count": 21,
     "metadata": {},
     "output_type": "execute_result"
    }
   ],
   "source": [
    "#Une faible relation entre age et charges, donc on doit ajouter d'autres features \n",
    "#select the features you are interested in\n",
    "X = np.c_[data[['age','bmi']]]\n",
    "y = np.c_[data[\"charges\"]]\n",
    "np.shape(X)"
   ]
  },
  {
   "cell_type": "code",
   "execution_count": 22,
   "id": "a41e08fd-928d-4f0e-a7c9-906fe6c9be24",
   "metadata": {
    "id": "a41e08fd-928d-4f0e-a7c9-906fe6c9be24"
   },
   "outputs": [
    {
     "name": "stdout",
     "output_type": "stream",
     "text": [
      "0.16026446424213214\n"
     ]
    }
   ],
   "source": [
    "lrModel = sklearn.linear_model.LinearRegression()\n",
    "X, X_test, y, y_test = sklearn.model_selection.train_test_split(X, y, test_size=0.2)\n",
    "# Train the model\n",
    "lrModel.fit(X, y)\n",
    "\n",
    "#R2 (when R2=1, all data is fit -> the Loss(w)=0)\n",
    "#R2 est proche de 0 ce qui signifie que la relation entre 'age' et 'charges' est faible\n",
    "print(lrModel.score(X, y))"
   ]
  },
  {
   "cell_type": "code",
   "execution_count": 23,
   "id": "33ace213-613f-421b-b8ea-1ae37c2b47a7",
   "metadata": {
    "id": "33ace213-613f-421b-b8ea-1ae37c2b47a7"
   },
   "outputs": [],
   "source": [
    "y_pred = lrModel.predict(X_test)"
   ]
  },
  {
   "cell_type": "code",
   "execution_count": 24,
   "id": "373898c5-31be-4761-bbc2-a59305a87082",
   "metadata": {
    "id": "373898c5-31be-4761-bbc2-a59305a87082"
   },
   "outputs": [
    {
     "data": {
      "text/html": [
       "<div>\n",
       "<style scoped>\n",
       "    .dataframe tbody tr th:only-of-type {\n",
       "        vertical-align: middle;\n",
       "    }\n",
       "\n",
       "    .dataframe tbody tr th {\n",
       "        vertical-align: top;\n",
       "    }\n",
       "\n",
       "    .dataframe thead th {\n",
       "        text-align: right;\n",
       "    }\n",
       "</style>\n",
       "<table border=\"1\" class=\"dataframe\">\n",
       "  <thead>\n",
       "    <tr style=\"text-align: right;\">\n",
       "      <th></th>\n",
       "      <th>Valeurs réelles</th>\n",
       "      <th>Valeurs prédites</th>\n",
       "    </tr>\n",
       "  </thead>\n",
       "  <tbody>\n",
       "    <tr>\n",
       "      <th>0</th>\n",
       "      <td>[[2395.17155], [11090.7178], [39774.2763], [14...</td>\n",
       "      <td>[[5103.25033190586], [25147.56382804857], [173...</td>\n",
       "    </tr>\n",
       "  </tbody>\n",
       "</table>\n",
       "</div>"
      ],
      "text/plain": [
       "                                     Valeurs réelles  \\\n",
       "0  [[2395.17155], [11090.7178], [39774.2763], [14...   \n",
       "\n",
       "                                    Valeurs prédites  \n",
       "0  [[5103.25033190586], [25147.56382804857], [173...  "
      ]
     },
     "execution_count": 24,
     "metadata": {},
     "output_type": "execute_result"
    }
   ],
   "source": [
    "df = pd.DataFrame({'Valeurs réelles': [y_test], 'Valeurs prédites': [y_pred]})\n",
    "df.head()"
   ]
  },
  {
   "cell_type": "markdown",
   "id": "dJRUqg07X0fn",
   "metadata": {
    "id": "dJRUqg07X0fn"
   },
   "source": [
    "## Tune the regularization hyper-parameter alpha"
   ]
  },
  {
   "cell_type": "code",
   "execution_count": 25,
   "id": "8cb490db-f034-4a78-9645-e88645134b6f",
   "metadata": {
    "id": "8cb490db-f034-4a78-9645-e88645134b6f"
   },
   "outputs": [
    {
     "name": "stdout",
     "output_type": "stream",
     "text": [
      "MAE: -10722.631\n",
      "Config: {'alpha': 0.99}\n"
     ]
    }
   ],
   "source": [
    "# define model\n",
    "from sklearn.model_selection import GridSearchCV\n",
    "from sklearn.model_selection import RepeatedKFold\n",
    "from numpy import arange\n",
    "model = sklearn.linear_model.Lasso()\n",
    "# define model evaluation method\n",
    "cv = RepeatedKFold(n_splits=10, n_repeats=3, random_state=1)\n",
    "# define grid\n",
    "grid = dict()\n",
    "grid['alpha'] = arange(0, 1, 0.01)\n",
    "# define search\n",
    "search = GridSearchCV(model, grid, scoring='neg_mean_absolute_error', cv=cv, n_jobs=-1)\n",
    "# perform the search\n",
    "results = search.fit(X, y)\n",
    "# summarize\n",
    "print('MAE: %.3f' % results.best_score_)\n",
    "print('Config: %s' % results.best_params_)"
   ]
  },
  {
   "cell_type": "code",
   "execution_count": null,
   "id": "371a65b6-fe43-4388-b9bb-a3f690160319",
   "metadata": {
    "id": "371a65b6-fe43-4388-b9bb-a3f690160319"
   },
   "outputs": [],
   "source": []
  }
 ],
 "metadata": {
  "colab": {
   "collapsed_sections": [],
   "name": "Regression_Autre_Data.ipynb",
   "provenance": []
  },
  "kernelspec": {
   "display_name": "Python 3",
   "language": "python",
   "name": "python3"
  },
  "language_info": {
   "codemirror_mode": {
    "name": "ipython",
    "version": 3
   },
   "file_extension": ".py",
   "mimetype": "text/x-python",
   "name": "python",
   "nbconvert_exporter": "python",
   "pygments_lexer": "ipython3",
   "version": "3.8.8"
  }
 },
 "nbformat": 4,
 "nbformat_minor": 5
}
